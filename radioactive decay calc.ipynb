{
 "cells": [
  {
   "cell_type": "markdown",
   "id": "ba4cb8ec",
   "metadata": {},
   "source": [
    "## Radiation Decay Calculator using Python"
   ]
  },
  {
   "cell_type": "markdown",
   "id": "35ab00f1",
   "metadata": {},
   "source": [
    "This python program predicts the radiation decay of the listed of isotopes.\n",
    "1. The program is to get user input of the isotope name, amount of activity present in mCi or Bq, original time of measurement(in IST Time zone)of the radioactivty and desired time or final activity they ant to know.\n",
    "2. The program then calculate the the output by simulstion the radioactivity disintegration formula.\n",
    "3. some of the mainly used isotpes and it half life is added to the dictonary as key and value pairs.\n",
    "\n",
    "\n",
    "\n",
    "\n",
    "\n",
    "\n",
    "\n",
    "This program is developed to be useful for predicting the decay of variious isotopes used in Nuclear Medicine or in medical applications."
   ]
  },
  {
   "cell_type": "code",
   "execution_count": 7,
   "id": "8768f81c",
   "metadata": {},
   "outputs": [],
   "source": [
    "#importing basic libraries required for calculation and adapting the timezone.\n",
    "import math\n",
    "import datetime"
   ]
  },
  {
   "cell_type": "markdown",
   "id": "e1d4f4ba",
   "metadata": {},
   "source": []
  },
  {
   "cell_type": "code",
   "execution_count": 8,
   "id": "a25387d5",
   "metadata": {},
   "outputs": [],
   "source": [
    "#Dictionary of isotopes and their half lives in seconds\n",
    "isotope_half_lives = {\n",
    "    'F18': 109.7*60, 'Tc99m':6*60*60,\n",
    "    'Ga68':67.71*60, 'Ga67':3.27*24*60*60,\n",
    "    'I131': 8.02*24*60*60,'Sm153': 46.3*60*60,'Tl201':3.04*24*60*60} \n",
    "#some more isotopes may be added in the neear future as the update "
   ]
  },
  {
   "cell_type": "markdown",
   "id": "bd760d13",
   "metadata": {},
   "source": []
  },
  {
   "cell_type": "code",
   "execution_count": 9,
   "id": "07bf36c1",
   "metadata": {
    "scrolled": true
   },
   "outputs": [
    {
     "name": "stdout",
     "output_type": "stream",
     "text": [
      "Enter the name of isotope(for example Tc99m or F18): F18\n",
      "Enter the amount of Activity in mCi at the time of measurement: 50\n",
      "Enter the desired Time(d) or the time at which you want to know the activity (t)? t\n",
      "Enter the time at which you want to know the activity: 100\n",
      "The activity will decay to 49.47621527707692mCi at 2023-04-30 08:33:33.289347+05:30 in IST.\n"
     ]
    }
   ],
   "source": [
    "#Get user input for Isotope name, its Initial Activity,its measrured Time and Time of Calculation(their requirement)\n",
    "isotope = input(\"Enter the name of isotope(for example Tc99m or F18): \")\n",
    "initial_activity= float(input(\"Enter the amount of Activity in mCi at the time of measurement: \"))\n",
    "time_type = input(\"Enter the desired Time(d) or the time at which you want to know the activity (t)? \")\n",
    "if time_type == 'd':\n",
    "    time = float(input('Enter the desired time: '))\n",
    "elif time_type == 't':\n",
    "    time = float(input(\"Enter the time at which you want to know the activity: \"))\n",
    "\n",
    "# convert the entered time into a objeect to the user specified time zone\n",
    "utc_time = datetime.datetime.utcnow()+datetime.timedelta(seconds=time)\n",
    "user_timezone= datetime.timezone(datetime.timedelta(hours=5, minutes=30)) #user time is GMT+5:30 \n",
    "local_time =  utc_time.astimezone(user_timezone)\n",
    "\n",
    "#calculation required to estimate the radioactivity (i.e. decay constant and the final activity)\n",
    "decay_constant =  math.log(2) / isotope_half_lives[isotope]\n",
    "final_activity = initial_activity*math.exp(-decay_constant*time)\n",
    "\n",
    "#output \n",
    "if time_type == 'd':\n",
    "        print (f'The activity at {local_time} is {final_activity}mCi')\n",
    "elif time_type == 't':\n",
    "    desired_time = -(math.log(final_activity/initial_activity))/decay_constant\n",
    "    print(f'The activity will decay to {final_activity}mCi at {local_time -datetime.timedelta(seconds=desired_time)} in IST.')"
   ]
  },
  {
   "cell_type": "markdown",
   "id": "c22b8251",
   "metadata": {},
   "source": [
    "I developed this python program to predict the radioactive decay of the list of isotopes, because I realized the need for an easy-to-use tool to calculate the decay of several isotopes over time.  This program may help the professionals and students in the field of radiation and nuclear medicine. It canhelp users to make informed decisons based on the accurate calculation and utilize their time wisely inside radiation exposure zone.\n",
    "\n",
    "I am posting this project on Github to share it with others who may find it useful, and to receive feedback and suggestions for further improvement.\n"
   ]
  }
 ],
 "metadata": {
  "kernelspec": {
   "display_name": "Python 3 (ipykernel)",
   "language": "python",
   "name": "python3"
  },
  "language_info": {
   "codemirror_mode": {
    "name": "ipython",
    "version": 3
   },
   "file_extension": ".py",
   "mimetype": "text/x-python",
   "name": "python",
   "nbconvert_exporter": "python",
   "pygments_lexer": "ipython3",
   "version": "3.10.9"
  }
 },
 "nbformat": 4,
 "nbformat_minor": 5
}
